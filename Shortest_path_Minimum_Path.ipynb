{
 "cells": [
  {
   "cell_type": "code",
   "execution_count": null,
   "metadata": {},
   "outputs": [],
   "source": [
    "# First, let's define a function to find the node with the smallest distance\n",
    "# that has not been visited yet\n",
    "\n",
    "def min_distance(distances, visited):\n",
    "    # Initialize minimum distance for next node\n",
    "    min_val = float('inf')\n",
    "    min_index = -1\n",
    "\n",
    "    # Loop through all nodes to find minimum distance\n",
    "    for i in range(len(distances)):\n",
    "        if distances[i] < min_val and i not in visited:\n",
    "            min_val = distances[i]\n",
    "            min_index = i\n",
    "\n",
    "    return min_index\n"
   ]
  }
 ],
 "metadata": {
  "kernelspec": {
   "display_name": "Python 3",
   "language": "python",
   "name": "python3"
  },
  "language_info": {
   "codemirror_mode": {
    "name": "ipython",
    "version": 3
   },
   "file_extension": ".py",
   "mimetype": "text/x-python",
   "name": "python",
   "nbconvert_exporter": "python",
   "pygments_lexer": "ipython3",
   "version": "3.6.4"
  }
 },
 "nbformat": 4,
 "nbformat_minor": 2
}
